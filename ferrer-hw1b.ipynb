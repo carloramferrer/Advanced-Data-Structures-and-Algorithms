{
 "cells": [
  {
   "cell_type": "code",
   "execution_count": null,
   "metadata": {},
   "outputs": [
    {
     "name": "stdout",
     "output_type": "stream",
     "text": [
      "12 0 9\n",
      "21\n"
     ]
    }
   ],
   "source": [
    "# O(n) time complexity\n",
    "while True:\n",
    "    try:\n",
    "        a = [int(i) for i in input().split()]\n",
    "        print(sum(a))\n",
    "    except EOFError:\n",
    "        break"
   ]
  },
  {
   "cell_type": "code",
   "execution_count": 2,
   "metadata": {},
   "outputs": [
    {
     "name": "stdout",
     "output_type": "stream",
     "text": [
      "11111111111111111111111111111111111111111111111111111111111111111111111111111111111111111111111111 11111111111111111111111111111111111111111111111111111111111111111111111111111111111111111111111111\n",
      "22222222222222222222222222222222222222222222222222222222222222222222222222222222222222222222222222\n",
      "1983479127394712739417293471297349712347812 12938471297349127394791273497123471297341927\n",
      "14921950424743840134208566968420821009689739\n",
      "\n"
     ]
    },
    {
     "ename": "ValueError",
     "evalue": "not enough values to unpack (expected 2, got 0)",
     "output_type": "error",
     "traceback": [
      "\u001b[1;31m---------------------------------------------------------------------------\u001b[0m",
      "\u001b[1;31mValueError\u001b[0m                                Traceback (most recent call last)",
      "\u001b[1;32m<ipython-input-2-29e220b68685>\u001b[0m in \u001b[0;36m<module>\u001b[1;34m\u001b[0m\n\u001b[0;32m      3\u001b[0m \u001b[1;32mwhile\u001b[0m \u001b[1;32mTrue\u001b[0m\u001b[1;33m:\u001b[0m\u001b[1;33m\u001b[0m\u001b[0m\n\u001b[0;32m      4\u001b[0m     \u001b[1;32mtry\u001b[0m\u001b[1;33m:\u001b[0m\u001b[1;33m\u001b[0m\u001b[0m\n\u001b[1;32m----> 5\u001b[1;33m         \u001b[0ma\u001b[0m\u001b[1;33m,\u001b[0m\u001b[0mb\u001b[0m\u001b[1;33m=\u001b[0m\u001b[0minput\u001b[0m\u001b[1;33m(\u001b[0m\u001b[1;33m)\u001b[0m\u001b[1;33m.\u001b[0m\u001b[0msplit\u001b[0m\u001b[1;33m(\u001b[0m\u001b[1;33m)\u001b[0m\u001b[1;33m\u001b[0m\u001b[0m\n\u001b[0m\u001b[0;32m      6\u001b[0m         \u001b[1;32mdef\u001b[0m \u001b[0maddnums\u001b[0m\u001b[1;33m(\u001b[0m\u001b[0mnum1\u001b[0m\u001b[1;33m,\u001b[0m \u001b[0mnum2\u001b[0m\u001b[1;33m)\u001b[0m\u001b[1;33m:\u001b[0m\u001b[1;33m\u001b[0m\u001b[0m\n\u001b[0;32m      7\u001b[0m             \u001b[0manswer\u001b[0m \u001b[1;33m=\u001b[0m \u001b[1;34m\"\"\u001b[0m\u001b[1;33m\u001b[0m\u001b[0m\n",
      "\u001b[1;31mValueError\u001b[0m: not enough values to unpack (expected 2, got 0)"
     ]
    }
   ],
   "source": [
    "# Solution 4 from JavaScript: Adding Extremely Large Numbers and Extra Long Factorials.\n",
    "# https://medium.com/@nitinpatel_20236/javascript-adding-extremely-large-numbers-and-extra-long-factorials-229b6055cb1a\n",
    "while True:\n",
    "    try:\n",
    "        a,b=input().split()\n",
    "        def addnums(num1, num2): \n",
    "            answer = \"\"\n",
    "            \n",
    "            if len(num1) < len(num2):\n",
    "                temp = num2\n",
    "                num2 = num1\n",
    "                num1 = temp\n",
    "                \n",
    "            carry = 0\n",
    "            \n",
    "            arrayfirstnum = [int(i) for i in num1]\n",
    "            arraysecondnum = [int(i) for i in num2]\n",
    "            \n",
    "            \n",
    "            for i in range(len(arrayfirstnum)):\n",
    "                a = arrayfirstnum[len(arrayfirstnum) - 1 - i]\n",
    "                \n",
    "                if len(arraysecondnum) - 1 - i < 0:\n",
    "                    b = 0\n",
    "                else:\n",
    "                    b = arraysecondnum[len(arraysecondnum) - 1 - i]\n",
    "                    \n",
    "                temp = str(carry + a + b)\n",
    "                digitSum = temp[-1]\n",
    "                \n",
    "                if len(temp) > 1:\n",
    "                    carry = int(temp[0])\n",
    "                else:\n",
    "                    carry = 0\n",
    "                \n",
    "                if i == len(arrayfirstnum)-1:\n",
    "                    answer = temp + answer\n",
    "                else:\n",
    "                    answer = digitSum + answer\n",
    "\n",
    "            print(answer)\n",
    "            \n",
    "        addnums(a,b)\n",
    "    except EOFError:\n",
    "        break"
   ]
  },
  {
   "cell_type": "code",
   "execution_count": null,
   "metadata": {},
   "outputs": [],
   "source": [
    "# Sources:\n",
    "    \n",
    "# https://stackoverflow.com/questions/7057880/can-i-put-a-tuple-into-an-array-in-python/24792275#24792275\n",
    "# https://stackoverflow.com/questions/43307653/measure-runtime-of-a-jupyter-notebook-code-cell?rq=1\n",
    "# https://stackoverflow.com/questions/1906717/splitting-integer-in-python\n",
    "# https://medium.com/@nitinpatel_20236/javascript-adding-extremely-large-numbers-and-extra-long-factorials-229b6055cb1a"
   ]
  }
 ],
 "metadata": {
  "kernelspec": {
   "display_name": "Python 3",
   "language": "python",
   "name": "python3"
  },
  "language_info": {
   "codemirror_mode": {
    "name": "ipython",
    "version": 3
   },
   "file_extension": ".py",
   "mimetype": "text/x-python",
   "name": "python",
   "nbconvert_exporter": "python",
   "pygments_lexer": "ipython3",
   "version": "3.7.0"
  }
 },
 "nbformat": 4,
 "nbformat_minor": 2
}
