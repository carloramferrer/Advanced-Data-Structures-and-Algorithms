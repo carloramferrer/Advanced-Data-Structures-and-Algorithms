{
 "cells": [
  {
   "cell_type": "code",
   "execution_count": 12,
   "metadata": {},
   "outputs": [
    {
     "name": "stdout",
     "output_type": "stream",
     "text": [
      "1\n",
      "17\n",
      "2\n"
     ]
    }
   ],
   "source": [
    "# O(n) \n",
    "t = int(input())\n",
    "for i in range(t):\n",
    "    number = int(input())\n",
    "    divisors = 0\n",
    "    i = 1\n",
    "    while i <= number:\n",
    "        if (number % i) == 0:\n",
    "            divisors = divisors + 1\n",
    "        i+=1\n",
    "    print(divisors)"
   ]
  },
  {
   "cell_type": "code",
   "execution_count": 11,
   "metadata": {},
   "outputs": [
    {
     "name": "stdout",
     "output_type": "stream",
     "text": [
      "1\n",
      "17\n",
      "2\n"
     ]
    }
   ],
   "source": [
    "# O(log(n)) \n",
    "import math\n",
    "\n",
    "t = int(input())\n",
    "for i in range(t):\n",
    "    number = int(input())\n",
    "    divisors = 0\n",
    "    i = 1\n",
    "    while i <= (math.sqrt(number)):\n",
    "        if (number % i) == 0:\n",
    "            if (number / i) == i:\n",
    "                divisors = divisors + 1\n",
    "            else:\n",
    "                divisors = divisors + 2\n",
    "        i+=1\n",
    "    print(divisors)"
   ]
  },
  {
   "cell_type": "code",
   "execution_count": null,
   "metadata": {},
   "outputs": [],
   "source": [
    "# Sources:\n",
    "\n",
    "# https://www.hackerearth.com/practice/notes/big-o-explained/\n",
    "# https://www.geeksforgeeks.org/python-program-to-check-whether-a-number-is-prime-or-not/\n",
    "# https://stackoverflow.com/questions/26753839/efficiently-getting-all-divisors-of-a-given-number/26753963"
   ]
  }
 ],
 "metadata": {
  "kernelspec": {
   "display_name": "Python 3",
   "language": "python",
   "name": "python3"
  },
  "language_info": {
   "codemirror_mode": {
    "name": "ipython",
    "version": 3
   },
   "file_extension": ".py",
   "mimetype": "text/x-python",
   "name": "python",
   "nbconvert_exporter": "python",
   "pygments_lexer": "ipython3",
   "version": "3.7.0"
  }
 },
 "nbformat": 4,
 "nbformat_minor": 2
}
