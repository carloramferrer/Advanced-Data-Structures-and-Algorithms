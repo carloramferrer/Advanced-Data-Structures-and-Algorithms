{
 "cells": [
  {
   "cell_type": "code",
   "execution_count": null,
   "metadata": {},
   "outputs": [
    {
     "name": "stdout",
     "output_type": "stream",
     "text": [
      "12 0 9\n",
      "21\n"
     ]
    }
   ],
   "source": [
    "# O(n) time complexity\n",
    "while True:\n",
    "    try:\n",
    "        a = [int(i) for i in input().split()]\n",
    "        print(sum(a))\n",
    "    except EOFError:\n",
    "        break\n",
    "\n",
    "# Sources:\n",
    "    \n",
    "# https://stackoverflow.com/questions/7057880/can-i-put-a-tuple-into-an-array-in-python/24792275#24792275\n",
    "# https://stackoverflow.com/questions/43307653/measure-runtime-of-a-jupyter-notebook-code-cell?rq=1\n",
    "# https://stackoverflow.com/questions/1906717/splitting-integer-in-python"
   ]
  },
  {
   "cell_type": "code",
   "execution_count": null,
   "metadata": {},
   "outputs": [],
   "source": []
  }
 ],
 "metadata": {
  "kernelspec": {
   "display_name": "Python 3",
   "language": "python",
   "name": "python3"
  },
  "language_info": {
   "codemirror_mode": {
    "name": "ipython",
    "version": 3
   },
   "file_extension": ".py",
   "mimetype": "text/x-python",
   "name": "python",
   "nbconvert_exporter": "python",
   "pygments_lexer": "ipython3",
   "version": "3.7.0"
  }
 },
 "nbformat": 4,
 "nbformat_minor": 2
}
